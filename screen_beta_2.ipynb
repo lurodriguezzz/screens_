{
  "nbformat": 4,
  "nbformat_minor": 0,
  "metadata": {
    "colab": {
      "provenance": [],
      "authorship_tag": "ABX9TyON/VgzkenPYV3sKalZC83l",
      "include_colab_link": true
    },
    "kernelspec": {
      "name": "python3",
      "display_name": "Python 3"
    },
    "language_info": {
      "name": "python"
    }
  },
  "cells": [
    {
      "cell_type": "markdown",
      "metadata": {
        "id": "view-in-github",
        "colab_type": "text"
      },
      "source": [
        "<a href=\"https://colab.research.google.com/github/lurodriguezzz/screens_/blob/main/screen_beta_2.ipynb\" target=\"_parent\"><img src=\"https://colab.research.google.com/assets/colab-badge.svg\" alt=\"Open In Colab\"/></a>"
      ]
    },
    {
      "cell_type": "code",
      "source": [
        "# Save this code as app.py and run with `streamlit run app.py`\n",
        "import streamlit as st"
      ],
      "metadata": {
        "id": "y2fLLkxCwE5d"
      },
      "execution_count": 5,
      "outputs": []
    },
    {
      "cell_type": "code",
      "source": [
        "\n",
        "\n",
        "# Page config\n",
        "st.set_page_config(page_title=\"ChatGPT Black\", layout=\"centered\")\n",
        "\n",
        "# Custom CSS for dark theme, bigger chat window, bottom input\n",
        "st.markdown(\n",
        "    \"\"\"\n",
        "    <style>\n",
        "    .stApp {\n",
        "        background-color: #0d0d0d;\n",
        "        color: #e0e0e0;\n",
        "        padding-bottom: 80px;\n",
        "    }\n",
        "\n",
        "    .user-msg, .bot-msg {\n",
        "        font-size: 16px;\n",
        "        padding: 12px 16px;\n",
        "        margin: 10px 0;\n",
        "        border-radius: 10px;\n",
        "        width: fit-content;\n",
        "        max-width: 85%;\n",
        "    }\n",
        "\n",
        "    .user-msg {\n",
        "        background-color: #1f5130;\n",
        "        color: #d9fdd3;\n",
        "        align-self: flex-end;\n",
        "        margin-left: auto;\n",
        "    }\n",
        "\n",
        "    .bot-msg {\n",
        "        background-color: #202124;\n",
        "        color: #c8e1ff;\n",
        "        align-self: flex-start;\n",
        "        margin-right: auto;\n",
        "    }\n",
        "\n",
        "    .chat-container {\n",
        "        display: flex;\n",
        "        flex-direction: column;\n",
        "        height: 70vh;\n",
        "        overflow-y: auto;\n",
        "        padding: 10px;\n",
        "        border: 1px solid #333;\n",
        "        border-radius: 10px;\n",
        "        background-color: #121212;\n",
        "    }\n",
        "\n",
        "    .bottom-input {\n",
        "        position: fixed;\n",
        "        bottom: 20px;\n",
        "        left: 0;\n",
        "        right: 0;\n",
        "        width: 100%;\n",
        "        background-color: #0d0d0d;\n",
        "        padding: 10px 20px;\n",
        "        box-shadow: 0 -2px 10px rgba(0,0,0,0.4);\n",
        "    }\n",
        "    </style>\n",
        "    \"\"\",\n",
        "    unsafe_allow_html=True\n",
        ")\n",
        "\n",
        "# Page title\n",
        "st.title(\"🖤 ChatGPT Black Theme\")\n",
        "\n",
        "# Initialize session\n",
        "if \"messages\" not in st.session_state:\n",
        "    st.session_state.messages = []\n",
        "\n",
        "# Chat message display area\n",
        "with st.container():\n",
        "    st.markdown('<div class=\"chat-container\">', unsafe_allow_html=True)\n",
        "    for msg in st.session_state.messages:\n",
        "        role_class = \"user-msg\" if msg[\"role\"] == \"user\" else \"bot-msg\"\n",
        "        prefix = \"🧑\" if msg[\"role\"] == \"user\" else \"🤖\"\n",
        "        st.markdown(f'<div class=\"{role_class}\">{prefix} {msg[\"content\"]}</div>', unsafe_allow_html=True)\n",
        "    st.markdown('</div>', unsafe_allow_html=True)\n",
        "\n",
        "# Chat input at bottom\n",
        "with st.container():\n",
        "    st.markdown('<div class=\"bottom-input\">', unsafe_allow_html=True)\n",
        "    user_input = st.text_input(\"You:\", key=\"input\", label_visibility=\"collapsed\", placeholder=\"Type your message here...\")\n",
        "    st.markdown('</div>', unsafe_allow_html=True)\n",
        "\n",
        "# Handle input\n",
        "if user_input:\n",
        "    st.session_state.messages.append({\"role\": \"user\", \"content\": user_input})\n",
        "    # Dummy response — replace with actual model or logic\n",
        "    response = \"This is a placeholder response.\"\n",
        "    st.session_state.messages.append({\"role\": \"bot\", \"content\": response})\n",
        "    st.experimental_rerun()\n"
      ],
      "metadata": {
        "colab": {
          "base_uri": "https://localhost:8080/"
        },
        "id": "clvOC8qXBxiD",
        "outputId": "b9ef164b-ab46-4146-a621-3044e804f20e"
      },
      "execution_count": 9,
      "outputs": [
        {
          "output_type": "stream",
          "name": "stderr",
          "text": [
            "2025-04-20 16:31:13.605 Thread 'MainThread': missing ScriptRunContext! This warning can be ignored when running in bare mode.\n",
            "2025-04-20 16:31:13.610 Thread 'MainThread': missing ScriptRunContext! This warning can be ignored when running in bare mode.\n",
            "2025-04-20 16:31:13.612 Thread 'MainThread': missing ScriptRunContext! This warning can be ignored when running in bare mode.\n",
            "2025-04-20 16:31:13.614 Thread 'MainThread': missing ScriptRunContext! This warning can be ignored when running in bare mode.\n",
            "2025-04-20 16:31:13.615 Thread 'MainThread': missing ScriptRunContext! This warning can be ignored when running in bare mode.\n",
            "2025-04-20 16:31:13.616 Thread 'MainThread': missing ScriptRunContext! This warning can be ignored when running in bare mode.\n",
            "2025-04-20 16:31:13.618 Thread 'MainThread': missing ScriptRunContext! This warning can be ignored when running in bare mode.\n",
            "2025-04-20 16:31:13.619 Thread 'MainThread': missing ScriptRunContext! This warning can be ignored when running in bare mode.\n",
            "2025-04-20 16:31:13.620 Thread 'MainThread': missing ScriptRunContext! This warning can be ignored when running in bare mode.\n",
            "2025-04-20 16:31:13.621 Thread 'MainThread': missing ScriptRunContext! This warning can be ignored when running in bare mode.\n",
            "2025-04-20 16:31:13.622 Thread 'MainThread': missing ScriptRunContext! This warning can be ignored when running in bare mode.\n",
            "2025-04-20 16:31:13.623 Thread 'MainThread': missing ScriptRunContext! This warning can be ignored when running in bare mode.\n",
            "2025-04-20 16:31:13.625 Thread 'MainThread': missing ScriptRunContext! This warning can be ignored when running in bare mode.\n",
            "2025-04-20 16:31:13.626 Thread 'MainThread': missing ScriptRunContext! This warning can be ignored when running in bare mode.\n",
            "2025-04-20 16:31:13.627 Thread 'MainThread': missing ScriptRunContext! This warning can be ignored when running in bare mode.\n",
            "2025-04-20 16:31:13.628 Thread 'MainThread': missing ScriptRunContext! This warning can be ignored when running in bare mode.\n",
            "2025-04-20 16:31:13.629 Thread 'MainThread': missing ScriptRunContext! This warning can be ignored when running in bare mode.\n",
            "2025-04-20 16:31:13.630 Thread 'MainThread': missing ScriptRunContext! This warning can be ignored when running in bare mode.\n",
            "2025-04-20 16:31:13.631 Thread 'MainThread': missing ScriptRunContext! This warning can be ignored when running in bare mode.\n",
            "2025-04-20 16:31:13.633 Thread 'MainThread': missing ScriptRunContext! This warning can be ignored when running in bare mode.\n",
            "2025-04-20 16:31:13.634 Thread 'MainThread': missing ScriptRunContext! This warning can be ignored when running in bare mode.\n",
            "2025-04-20 16:31:13.635 Thread 'MainThread': missing ScriptRunContext! This warning can be ignored when running in bare mode.\n",
            "2025-04-20 16:31:13.636 Thread 'MainThread': missing ScriptRunContext! This warning can be ignored when running in bare mode.\n"
          ]
        }
      ]
    }
  ]
}