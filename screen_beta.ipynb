{
  "nbformat": 4,
  "nbformat_minor": 0,
  "metadata": {
    "colab": {
      "provenance": []
    },
    "kernelspec": {
      "name": "python3",
      "display_name": "Python 3"
    },
    "language_info": {
      "name": "python"
    }
  },
  "cells": [
    {
      "cell_type": "code",
      "source": [
        "# Save this code as app.py and run with `streamlit run app.py`\n",
        "import streamlit as st"
      ],
      "metadata": {
        "id": "y2fLLkxCwE5d"
      },
      "execution_count": 5,
      "outputs": []
    },
    {
      "cell_type": "code",
      "execution_count": 7,
      "metadata": {
        "colab": {
          "base_uri": "https://localhost:8080/"
        },
        "id": "wnggQ7uTv-kP",
        "outputId": "ab3f414a-16d0-4023-e412-cf384580a07e"
      },
      "outputs": [
        {
          "output_type": "stream",
          "name": "stderr",
          "text": [
            "2025-04-20 15:19:08.701 Thread 'MainThread': missing ScriptRunContext! This warning can be ignored when running in bare mode.\n",
            "2025-04-20 15:19:08.703 Thread 'MainThread': missing ScriptRunContext! This warning can be ignored when running in bare mode.\n",
            "2025-04-20 15:19:08.704 Thread 'MainThread': missing ScriptRunContext! This warning can be ignored when running in bare mode.\n",
            "2025-04-20 15:19:08.705 Thread 'MainThread': missing ScriptRunContext! This warning can be ignored when running in bare mode.\n",
            "2025-04-20 15:19:08.706 Thread 'MainThread': missing ScriptRunContext! This warning can be ignored when running in bare mode.\n",
            "2025-04-20 15:19:08.707 Thread 'MainThread': missing ScriptRunContext! This warning can be ignored when running in bare mode.\n",
            "2025-04-20 15:19:08.708 Thread 'MainThread': missing ScriptRunContext! This warning can be ignored when running in bare mode.\n",
            "2025-04-20 15:19:08.709 Thread 'MainThread': missing ScriptRunContext! This warning can be ignored when running in bare mode.\n",
            "2025-04-20 15:19:08.710 Thread 'MainThread': missing ScriptRunContext! This warning can be ignored when running in bare mode.\n",
            "2025-04-20 15:19:08.711 Thread 'MainThread': missing ScriptRunContext! This warning can be ignored when running in bare mode.\n",
            "2025-04-20 15:19:08.712 Thread 'MainThread': missing ScriptRunContext! This warning can be ignored when running in bare mode.\n",
            "2025-04-20 15:19:08.713 Thread 'MainThread': missing ScriptRunContext! This warning can be ignored when running in bare mode.\n",
            "2025-04-20 15:19:08.714 Thread 'MainThread': missing ScriptRunContext! This warning can be ignored when running in bare mode.\n"
          ]
        }
      ],
      "source": [
        "\n",
        "\n",
        "st.set_page_config(page_title=\"ChatGPT Black\", layout=\"centered\")\n",
        "\n",
        "st.markdown(\n",
        "    \"\"\"\n",
        "    <style>\n",
        "    .stApp {\n",
        "        background-color: black;\n",
        "        color: white;\n",
        "    }\n",
        "    .user-msg {\n",
        "        color: lightgreen;\n",
        "    }\n",
        "    .bot-msg {\n",
        "        color: cyan;\n",
        "    }\n",
        "    </style>\n",
        "    \"\"\",\n",
        "    unsafe_allow_html=True\n",
        ")\n",
        "\n",
        "st.title(\"🖤 ChatGPT Black Theme\")\n",
        "\n",
        "if \"messages\" not in st.session_state:\n",
        "    st.session_state.messages = []\n",
        "\n",
        "for msg in st.session_state.messages:\n",
        "    if msg[\"role\"] == \"user\":\n",
        "        st.markdown(f'<div class=\"user-msg\">🧑 {msg[\"content\"]}</div>', unsafe_allow_html=True)\n",
        "    else:\n",
        "        st.markdown(f'<div class=\"bot-msg\">🤖 {msg[\"content\"]}</div>', unsafe_allow_html=True)\n",
        "\n",
        "user_input = st.text_input(\"You:\", key=\"input\")\n",
        "if user_input:\n",
        "    st.session_state.messages.append({\"role\": \"user\", \"content\": user_input})\n",
        "    response = \"This is a placeholder response.\"\n",
        "    st.session_state.messages.append({\"role\": \"bot\", \"content\": response})\n",
        "    st.experimental_rerun()\n"
      ]
    }
  ]
}